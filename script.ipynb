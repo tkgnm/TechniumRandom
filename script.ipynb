{
 "cells": [
  {
   "cell_type": "code",
   "execution_count": 9,
   "id": "161bd6a8-96d9-4031-a145-568b2ce901be",
   "metadata": {},
   "outputs": [
    {
     "name": "stdout",
     "output_type": "stream",
     "text": [
      "Done\n"
     ]
    }
   ],
   "source": [
    "# Using readlines()\n",
    "file1 = open('103.txt', 'r')\n",
    "Lines = file1.readlines()\n",
    "  \n",
    "with open(r'103stripped.txt', 'w') as fp:\n",
    "        \n",
    "    # Strips the newline character\n",
    "    for line in Lines:\n",
    "        line = line.strip(\"•\")\n",
    "        line = line.strip()\n",
    "    \n",
    "        fp.write(\"%s\\n\" % line)\n",
    "\n",
    "print('Done')"
   ]
  },
  {
   "cell_type": "code",
   "execution_count": null,
   "id": "eef320fd-e9f4-4b8d-88be-aa23eb8c9e8a",
   "metadata": {},
   "outputs": [],
   "source": []
  }
 ],
 "metadata": {
  "kernelspec": {
   "display_name": "Python 3 (ipykernel)",
   "language": "python",
   "name": "python3"
  },
  "language_info": {
   "codemirror_mode": {
    "name": "ipython",
    "version": 3
   },
   "file_extension": ".py",
   "mimetype": "text/x-python",
   "name": "python",
   "nbconvert_exporter": "python",
   "pygments_lexer": "ipython3",
   "version": "3.9.12"
  }
 },
 "nbformat": 4,
 "nbformat_minor": 5
}
